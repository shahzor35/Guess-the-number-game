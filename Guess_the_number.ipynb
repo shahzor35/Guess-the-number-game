{
  "nbformat": 4,
  "nbformat_minor": 0,
  "metadata": {
    "colab": {
      "provenance": []
    },
    "kernelspec": {
      "name": "python3",
      "display_name": "Python 3"
    },
    "language_info": {
      "name": "python"
    }
  },
  "cells": [
    {
      "cell_type": "code",
      "source": [
        "import random\n",
        "computer_guess_number = random.randint(1,101)\n",
        "user_guess_number = int(input(\"Guess the number between 1 - 100 : \"))\n",
        "def check_number(user_guess_number):\n",
        "    if user_guess_number == computer_guess_number:\n",
        "        print(\"You have guessed the number correctly.\")\n",
        "    elif user_guess_number > computer_guess_number:\n",
        "      print(\"Incorrect guess !! I have guess below it.\")\n",
        "      user_guess_number = int(input(\"Guess the number between 1 - 100 : \"))\n",
        "      check_number(user_guess_number)\n",
        "    elif user_guess_number < computer_guess_number:\n",
        "        print(\"Incorrect guess !! I have guess above it.\")\n",
        "        user_guess_number = int(input(\"Guess the number between 1 - 100 : \"))\n",
        "        check_number(user_guess_number)\n",
        "check_number(user_guess_number)"
      ],
      "metadata": {
        "colab": {
          "base_uri": "https://localhost:8080/"
        },
        "id": "i2EbATluywL8",
        "outputId": "2027b8d2-4de5-4ca9-b69a-7f164b37b197"
      },
      "execution_count": null,
      "outputs": [
        {
          "output_type": "stream",
          "name": "stdout",
          "text": [
            "Guess the number between 1 - 100 : 45\n",
            "Incorrect guess !! I have guess below it.\n",
            "Guess the number between 1 - 100 : 35\n",
            "Incorrect guess !! I have guess below it.\n",
            "Guess the number between 1 - 100 : 30\n",
            "Incorrect guess !! I have guess below it.\n",
            "Guess the number between 1 - 100 : 20\n",
            "Incorrect guess !! I have guess above it.\n",
            "Guess the number between 1 - 100 : 25\n",
            "You have guessed the number correctly.\n"
          ]
        }
      ]
    },
    {
      "cell_type": "code",
      "source": [],
      "metadata": {
        "id": "hR3NDBuq3UH0"
      },
      "execution_count": null,
      "outputs": []
    }
  ]
}